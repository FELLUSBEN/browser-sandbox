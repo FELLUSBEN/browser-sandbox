{
 "cells": [
  {
   "cell_type": "code",
   "execution_count": 2,
   "metadata": {},
   "outputs": [],
   "source": [
    "import ssl\n",
    "import socket\n",
    "from datetime import datetime, timedelta"
   ]
  },
  {
   "cell_type": "code",
   "execution_count": 3,
   "metadata": {},
   "outputs": [],
   "source": [
    "def check_certificate_age(url):\n",
    "    host = url.replace(\"https://\", \"\").replace(\"http://\", \"\").split('/')[0]\n",
    "    port = 443  \n",
    "    context = ssl.create_default_context()\n",
    "\n",
    "    try:\n",
    "        with socket.create_connection((host, port)) as sock:\n",
    "            with context.wrap_socket(sock, server_hostname=host) as sslsock:\n",
    "                cert = sslsock.getpeercert()\n",
    "\n",
    "                not_before_str = cert['notBefore']\n",
    "                not_before = datetime.strptime(not_before_str, '%b %d %H:%M:%S %Y %Z')\n",
    "\n",
    "                one_year_ago = datetime.now() - timedelta(days=100)\n",
    "                if not_before < one_year_ago:\n",
    "                    return True\n",
    "                else:\n",
    "                    return False\n",
    "    except Exception as e:\n",
    "        print(f\"An error occurred: {e}\")\n",
    "        return None"
   ]
  },
  {
   "cell_type": "code",
   "execution_count": 1,
   "metadata": {},
   "outputs": [
    {
     "ename": "NameError",
     "evalue": "name 'check_certificate_age' is not defined",
     "output_type": "error",
     "traceback": [
      "\u001b[1;31m---------------------------------------------------------------------------\u001b[0m",
      "\u001b[1;31mNameError\u001b[0m                                 Traceback (most recent call last)",
      "Cell \u001b[1;32mIn[1], line 2\u001b[0m\n\u001b[0;32m      1\u001b[0m url \u001b[38;5;241m=\u001b[39m \u001b[38;5;124m\"\u001b[39m\u001b[38;5;124mhttps://www.reddit.com\u001b[39m\u001b[38;5;124m\"\u001b[39m\n\u001b[1;32m----> 2\u001b[0m result \u001b[38;5;241m=\u001b[39m \u001b[43mcheck_certificate_age\u001b[49m(url)\n\u001b[0;32m      3\u001b[0m \u001b[38;5;28;01mif\u001b[39;00m result \u001b[38;5;129;01mis\u001b[39;00m \u001b[38;5;28;01mTrue\u001b[39;00m:\n\u001b[0;32m      4\u001b[0m     \u001b[38;5;28mprint\u001b[39m(\u001b[38;5;124m\"\u001b[39m\u001b[38;5;124mThe certificate is older than 100 days.\u001b[39m\u001b[38;5;124m\"\u001b[39m)\n",
      "\u001b[1;31mNameError\u001b[0m: name 'check_certificate_age' is not defined"
     ]
    }
   ],
   "source": [
    "url = \"https://www.reddit.com\"\n",
    "result = check_certificate_age(url)\n",
    "if result is True:\n",
    "    print(\"The certificate is older than 100 days.\")\n",
    "elif result is False:\n",
    "    print(\"The certificate is not older than 100 days.\")\n",
    "else:\n",
    "    print(\"Could not retrieve the certificate.\")"
   ]
  },
  {
   "cell_type": "code",
   "execution_count": 4,
   "metadata": {},
   "outputs": [
    {
     "name": "stdout",
     "output_type": "stream",
     "text": [
      "Regex to match numbers greater than 123: \\d{4,}|[2-9]\\d{2}|2\\d{2}|3\\d{2}|4\\d{2}|5\\d{2}|6\\d{2}|7\\d{2}|8\\d{2}|9\\d{2}|1[3-9]\\d{1}|13\\d{1}|14\\d{1}|15\\d{1}|16\\d{1}|17\\d{1}|18\\d{1}|19\\d{1}|12[4-9]\\d{0}|124\\d{0}|125\\d{0}|126\\d{0}|127\\d{0}|128\\d{0}|129\\d{0}\n",
      "122 is not greater than 123\n",
      "123 is not greater than 123\n",
      "124 is greater than 123\n",
      "130 is greater than 123\n",
      "200 is greater than 123\n",
      "1000 is greater than 123\n",
      "121 is not greater than 123\n"
     ]
    }
   ],
   "source": [
    "def generate_greater_than_regex(n):\n",
    "    str_n = str(n)\n",
    "    length = len(str_n)\n",
    "\n",
    "    # Create parts of the regex for numbers with different lengths\n",
    "    regex_parts = []\n",
    "\n",
    "    # Match numbers with more digits than n\n",
    "    regex_parts.append(r'\\d{%d,}' % (length + 1))\n",
    "\n",
    "    # Match numbers with the same number of digits as n\n",
    "    for i in range(length):\n",
    "        prefix = str_n[:i]\n",
    "        digit = int(str_n[i])\n",
    "        if digit < 9:\n",
    "            regex_parts.append(r'%s[%d-9]\\d{%d}' % (prefix, digit + 1, length - i - 1))\n",
    "        if digit > 0:\n",
    "            for j in range(digit + 1, 10):\n",
    "                regex_parts.append(r'%s%d\\d{%d}' % (prefix, j, length - i - 1))\n",
    "\n",
    "    return r'|'.join(regex_parts)\n",
    "\n",
    "# Example usage\n",
    "threshold = 123\n",
    "regex_pattern = generate_greater_than_regex(threshold)\n",
    "print(f\"Regex to match numbers greater than {threshold}: {regex_pattern}\")\n",
    "\n",
    "# Test the generated regex\n",
    "import re\n",
    "\n",
    "test_numbers = [\"122\", \"123\", \"124\", \"130\", \"200\", \"1000\", \"121\"]\n",
    "compiled_regex = re.compile(regex_pattern)\n",
    "\n",
    "for number in test_numbers:\n",
    "    if compiled_regex.match(number):\n",
    "        print(f\"{number} is greater than {threshold}\")\n",
    "    else:\n",
    "        print(f\"{number} is not greater than {threshold}\")\n"
   ]
  },
  {
   "cell_type": "code",
   "execution_count": 14,
   "metadata": {},
   "outputs": [
    {
     "name": "stdout",
     "output_type": "stream",
     "text": [
      "Regex to match numbers greater than 123: \\d{1,2}|123|[1-1]\\d{2}|1[1-2]\\d{1}|12[1-3]\\d{0}\n",
      "122 is greater than 123\n",
      "123 is greater than 123\n",
      "124 is greater than 123\n",
      "130 is greater than 123\n",
      "200 is greater than 123\n",
      "1000 is greater than 123\n",
      "121 is greater than 123\n"
     ]
    },
    {
     "ename": "",
     "evalue": "",
     "output_type": "error",
     "traceback": [
      "\u001b[1;31mThe Kernel crashed while executing code in the current cell or a previous cell. \n",
      "\u001b[1;31mPlease review the code in the cell(s) to identify a possible cause of the failure. \n",
      "\u001b[1;31mClick <a href='https://aka.ms/vscodeJupyterKernelCrash'>here</a> for more info. \n",
      "\u001b[1;31mView Jupyter <a href='command:jupyter.viewOutput'>log</a> for further details."
     ]
    }
   ],
   "source": [
    "def generate_less_equals_regex(n):\n",
    "        str_n = str(n)\n",
    "        length = len(str_n)\n",
    "\n",
    "        # Create parts of the regex for numbers with different lengths\n",
    "        regex_parts = []\n",
    "\n",
    "        # Match numbers with more digits than n\n",
    "        regex_parts.append(r'\\d{1,%d}' % (length - 1))\n",
    "\n",
    "        #match equal number\n",
    "        regex_parts.append(\"123\")\n",
    "\n",
    "        # Match numbers with the same number of digits as n\n",
    "        for i in range(length):\n",
    "            prefix = str_n[:i]\n",
    "            digit = int(str_n[i])\n",
    "            if digit < 9:\n",
    "                regex_parts.append(r'%s[1-%d]\\d{%d}' % (prefix, digit, length - i - 1))\n",
    "\n",
    "        return r'|'.join(regex_parts)\n",
    "\n",
    "threshold = 123\n",
    "regex_pattern = generate_less_equals_regex(threshold)\n",
    "print(f\"Regex to match numbers greater than {threshold}: {regex_pattern}\")\n",
    "\n",
    "# Test the generated regex\n",
    "import re\n",
    "\n",
    "test_numbers = [\"122\", \"123\", \"124\", \"130\", \"200\", \"1000\", \"121\"]\n",
    "compiled_regex = re.compile(regex_pattern)\n",
    "\n",
    "for number in test_numbers:\n",
    "    if compiled_regex.match(number):\n",
    "        print(f\"{number} is greater than {threshold}\")\n",
    "    else:\n",
    "        print(f\"{number} is not greater than {threshold}\")"
   ]
  }
 ],
 "metadata": {
  "kernelspec": {
   "display_name": "Python 3",
   "language": "python",
   "name": "python3"
  },
  "language_info": {
   "codemirror_mode": {
    "name": "ipython",
    "version": 3
   },
   "file_extension": ".py",
   "mimetype": "text/x-python",
   "name": "python",
   "nbconvert_exporter": "python",
   "pygments_lexer": "ipython3",
   "version": "3.10.7"
  }
 },
 "nbformat": 4,
 "nbformat_minor": 2
}
