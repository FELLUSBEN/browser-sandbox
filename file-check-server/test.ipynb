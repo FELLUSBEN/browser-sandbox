{
 "cells": [
  {
   "cell_type": "code",
   "execution_count": 6,
   "metadata": {},
   "outputs": [
    {
     "name": "stdout",
     "output_type": "stream",
     "text": [
      "{'is_valid': True, 'message': 'file is okay.'}\n"
     ]
    }
   ],
   "source": [
    "import requests\n",
    "import json\n",
    "\n",
    "FILE_CHECK_SERVER_IP = \"10.100.102.24\"\n",
    "\n",
    "files = {'file': open('a.out', 'rb')}\n",
    "url = f\"http://{FILE_CHECK_SERVER_IP}:5001/upload\"\n",
    "\n",
    "r = requests.post(url, files=files).text\n",
    "data = json.loads(r)\n",
    "print(data)"
   ]
  },
  {
   "cell_type": "code",
   "execution_count": 10,
   "metadata": {},
   "outputs": [
    {
     "data": {
      "text/plain": [
       "'b94d27b9934d3e08a52e52d7da7dabfac484efe37a5380ee9088f7ace2efcde9'"
      ]
     },
     "execution_count": 10,
     "metadata": {},
     "output_type": "execute_result"
    }
   ],
   "source": [
    "import hashlib\n",
    "def hashfile(filepath):\n",
    "    hash_func = hashlib.new(\"sha256\")\n",
    "    \n",
    "    with open(filepath, 'rb') as f:\n",
    "        for chunk in iter(lambda: f.read(4096), b\"\"):\n",
    "            hash_func.update(chunk)\n",
    "    \n",
    "    return hash_func.hexdigest()\n",
    "\n",
    "hashfile(\"b.txt\")"
   ]
  }
 ],
 "metadata": {
  "kernelspec": {
   "display_name": "venv",
   "language": "python",
   "name": "python3"
  },
  "language_info": {
   "codemirror_mode": {
    "name": "ipython",
    "version": 3
   },
   "file_extension": ".py",
   "mimetype": "text/x-python",
   "name": "python",
   "nbconvert_exporter": "python",
   "pygments_lexer": "ipython3",
   "version": "3.11.9"
  }
 },
 "nbformat": 4,
 "nbformat_minor": 2
}
