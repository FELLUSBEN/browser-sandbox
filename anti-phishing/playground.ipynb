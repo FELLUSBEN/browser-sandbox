{
 "cells": [
  {
   "cell_type": "code",
   "execution_count": 1,
   "metadata": {},
   "outputs": [],
   "source": [
    "import ssl\n",
    "import socket\n",
    "from datetime import datetime, timedelta"
   ]
  },
  {
   "cell_type": "code",
   "execution_count": 10,
   "metadata": {},
   "outputs": [],
   "source": [
    "def check_certificate_age(url):\n",
    "    host = url.replace(\"https://\", \"\").replace(\"http://\", \"\").split('/')[0]\n",
    "    port = 443  \n",
    "    context = ssl.create_default_context()\n",
    "\n",
    "    try:\n",
    "        with socket.create_connection((host, port)) as sock:\n",
    "            with context.wrap_socket(sock, server_hostname=host) as sslsock:\n",
    "                cert = sslsock.getpeercert()\n",
    "\n",
    "                not_before_str = cert['notBefore']\n",
    "                not_before = datetime.strptime(not_before_str, '%b %d %H:%M:%S %Y %Z')\n",
    "\n",
    "                one_year_ago = datetime.now() - timedelta(days=100)\n",
    "                if not_before < one_year_ago:\n",
    "                    return True\n",
    "                else:\n",
    "                    return False\n",
    "    except Exception as e:\n",
    "        print(f\"An error occurred: {e}\")\n",
    "        return None"
   ]
  },
  {
   "cell_type": "code",
   "execution_count": 16,
   "metadata": {},
   "outputs": [
    {
     "name": "stdout",
     "output_type": "stream",
     "text": [
      "The certificate is older than 100 days.\n"
     ]
    }
   ],
   "source": [
    "url = \"https://azeria-labs.com\"\n",
    "result = check_certificate_age(url)\n",
    "if result is True:\n",
    "    print(\"The certificate is older than 100 days.\")\n",
    "elif result is False:\n",
    "    print(\"The certificate is not older than 100 days.\")\n",
    "else:\n",
    "    print(\"Could not retrieve the certificate.\")"
   ]
  }
 ],
 "metadata": {
  "kernelspec": {
   "display_name": "Python 3",
   "language": "python",
   "name": "python3"
  },
  "language_info": {
   "codemirror_mode": {
    "name": "ipython",
    "version": 3
   },
   "file_extension": ".py",
   "mimetype": "text/x-python",
   "name": "python",
   "nbconvert_exporter": "python",
   "pygments_lexer": "ipython3",
   "version": "3.10.7"
  }
 },
 "nbformat": 4,
 "nbformat_minor": 2
}
